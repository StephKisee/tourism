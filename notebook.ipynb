{
 "cells": [
  {
   "cell_type": "markdown",
   "source": [
    "# Tourism in Kenya"
   ],
   "metadata": {
    "collapsed": false
   },
   "id": "4c9800cc85b31578"
  },
  {
   "cell_type": "code",
   "execution_count": 57,
   "id": "initial_id",
   "metadata": {
    "collapsed": true,
    "ExecuteTime": {
     "end_time": "2024-02-27T14:57:24.031214500Z",
     "start_time": "2024-02-27T14:57:20.260594Z"
    }
   },
   "outputs": [],
   "source": [
    "import matplotlib.pyplot as plt\n",
    "import numpy as np\n",
    "import pandas as pd\n",
    "import seaborn as sns\n",
    "import plotly.express as px"
   ]
  },
  {
   "cell_type": "code",
   "outputs": [
    {
     "name": "stdout",
     "output_type": "stream",
     "text": [
      "['Point_of_Entry', 'Top_Source_Market', 'Market Region', 'Purpose_of_Visit', 'Flight_Landings', 'Bed_Occupancy', 'Inbound_Earnings']\n"
     ]
    }
   ],
   "source": [
    "# Set the path to the data\n",
    "path = 'data/kenya_tourism_data.xlsx'\n",
    "\n",
    "# Load the spreadsheets\n",
    "xls = pd.ExcelFile(path)\n",
    "\n",
    "# Print the sheet names\n",
    "print(xls.sheet_names)"
   ],
   "metadata": {
    "collapsed": false,
    "ExecuteTime": {
     "end_time": "2024-02-27T14:57:24.135360100Z",
     "start_time": "2024-02-27T14:57:24.030031700Z"
    }
   },
   "id": "f2e73b2f9d87db8f",
   "execution_count": 58
  },
  {
   "cell_type": "code",
   "outputs": [
    {
     "name": "stdout",
     "output_type": "stream",
     "text": [
      "['Solarize_Light2', '_classic_test_patch', '_mpl-gallery', '_mpl-gallery-nogrid', 'bmh', 'classic', 'dark_background', 'fast', 'fivethirtyeight', 'ggplot', 'grayscale', 'seaborn-v0_8', 'seaborn-v0_8-bright', 'seaborn-v0_8-colorblind', 'seaborn-v0_8-dark', 'seaborn-v0_8-dark-palette', 'seaborn-v0_8-darkgrid', 'seaborn-v0_8-deep', 'seaborn-v0_8-muted', 'seaborn-v0_8-notebook', 'seaborn-v0_8-paper', 'seaborn-v0_8-pastel', 'seaborn-v0_8-poster', 'seaborn-v0_8-talk', 'seaborn-v0_8-ticks', 'seaborn-v0_8-white', 'seaborn-v0_8-whitegrid', 'tableau-colorblind10']\n"
     ]
    }
   ],
   "source": [
    "# Print available plt styles\n",
    "print(plt.style.available)\n",
    "\n",
    "# Set the style\n",
    "plt.style.use('bmh')"
   ],
   "metadata": {
    "collapsed": false,
    "ExecuteTime": {
     "end_time": "2024-02-27T14:57:24.269782700Z",
     "start_time": "2024-02-27T14:57:24.128624800Z"
    }
   },
   "id": "55e68eb581e6fd58",
   "execution_count": 59
  },
  {
   "cell_type": "code",
   "outputs": [],
   "source": [
    "# Load the spreadsheets into dataframes\n",
    "point_of_entry = xls.parse('Point_of_Entry')\n",
    "point_of_entry.columns = point_of_entry.columns.str.lower()\n",
    "top_source_markets = xls.parse('Top_Source_Market')\n",
    "top_source_markets.columns = top_source_markets.columns.str.lower()\n",
    "market_region = xls.parse('Market Region')\n",
    "market_region.columns = market_region.columns.str.lower()\n",
    "purpose_of_visit = xls.parse('Purpose_of_Visit')\n",
    "purpose_of_visit.columns = purpose_of_visit.columns.str.lower()\n",
    "flight_landings = xls.parse('Flight_Landings')\n",
    "flight_landings.columns = flight_landings.columns.str.lower()\n",
    "bed_occupancy = xls.parse('Bed_Occupancy')\n",
    "bed_occupancy.columns = bed_occupancy.columns.str.lower()\n",
    "inbound_earnings = xls.parse('Inbound_Earnings')\n",
    "inbound_earnings.columns = inbound_earnings.columns.str.lower()"
   ],
   "metadata": {
    "collapsed": false,
    "ExecuteTime": {
     "end_time": "2024-02-27T14:57:24.457280300Z",
     "start_time": "2024-02-27T14:57:24.168807800Z"
    }
   },
   "id": "7ad56d49488097a2",
   "execution_count": 60
  },
  {
   "cell_type": "markdown",
   "source": [
    "## Tourist Arrivals\n",
    "---\n",
    "\n",
    "### International Tourist Arrivals\n",
    "International tourist arrivals are the number of tourists who travel to a country that is not their usual place of residence. The number of international tourist arrivals is an important economic indicator for the tourism industry as well as the entire country. It is used to measure the economic performance of the tourism industry and the country as a whole.\n",
    "\n",
    "International tourist arrivals in 2022 saw a remarkable 70.45% increase from 2021. This is a significant increase and is a sign of the recovery of the tourism industry in Kenya. The number of international tourist arrivals in 2022 was 1483752, which is a significant increase from 2021, which had 870,465 international tourist arrivals. This is a significant increase and is a sign of the recovery of the tourism industry in Kenya."
   ],
   "metadata": {
    "collapsed": false
   },
   "id": "2a38938bd1ab86ba"
  },
  {
   "cell_type": "code",
   "outputs": [
    {
     "data": {
      "text/plain": "     year      month  arrivals point_of_entry       date\n0    2018    January    105262           JKIA 2018-01-31\n1    2018   February     98532           JKIA 2018-02-28\n2    2018      March    100441           JKIA 2018-03-31\n3    2018      April     94236           JKIA 2018-04-30\n4    2018        May     93730           JKIA 2018-05-31\n..    ...        ...       ...            ...        ...\n175  2022     August     27373          Other 2022-08-31\n176  2022  September     33969          Other 2022-09-30\n177  2022    October     32040          Other 2022-10-31\n178  2022   November     31678          Other 2022-11-30\n179  2022   December     39750          Other 2022-12-31\n\n[180 rows x 5 columns]",
      "text/html": "<div>\n<style scoped>\n    .dataframe tbody tr th:only-of-type {\n        vertical-align: middle;\n    }\n\n    .dataframe tbody tr th {\n        vertical-align: top;\n    }\n\n    .dataframe thead th {\n        text-align: right;\n    }\n</style>\n<table border=\"1\" class=\"dataframe\">\n  <thead>\n    <tr style=\"text-align: right;\">\n      <th></th>\n      <th>year</th>\n      <th>month</th>\n      <th>arrivals</th>\n      <th>point_of_entry</th>\n      <th>date</th>\n    </tr>\n  </thead>\n  <tbody>\n    <tr>\n      <th>0</th>\n      <td>2018</td>\n      <td>January</td>\n      <td>105262</td>\n      <td>JKIA</td>\n      <td>2018-01-31</td>\n    </tr>\n    <tr>\n      <th>1</th>\n      <td>2018</td>\n      <td>February</td>\n      <td>98532</td>\n      <td>JKIA</td>\n      <td>2018-02-28</td>\n    </tr>\n    <tr>\n      <th>2</th>\n      <td>2018</td>\n      <td>March</td>\n      <td>100441</td>\n      <td>JKIA</td>\n      <td>2018-03-31</td>\n    </tr>\n    <tr>\n      <th>3</th>\n      <td>2018</td>\n      <td>April</td>\n      <td>94236</td>\n      <td>JKIA</td>\n      <td>2018-04-30</td>\n    </tr>\n    <tr>\n      <th>4</th>\n      <td>2018</td>\n      <td>May</td>\n      <td>93730</td>\n      <td>JKIA</td>\n      <td>2018-05-31</td>\n    </tr>\n    <tr>\n      <th>...</th>\n      <td>...</td>\n      <td>...</td>\n      <td>...</td>\n      <td>...</td>\n      <td>...</td>\n    </tr>\n    <tr>\n      <th>175</th>\n      <td>2022</td>\n      <td>August</td>\n      <td>27373</td>\n      <td>Other</td>\n      <td>2022-08-31</td>\n    </tr>\n    <tr>\n      <th>176</th>\n      <td>2022</td>\n      <td>September</td>\n      <td>33969</td>\n      <td>Other</td>\n      <td>2022-09-30</td>\n    </tr>\n    <tr>\n      <th>177</th>\n      <td>2022</td>\n      <td>October</td>\n      <td>32040</td>\n      <td>Other</td>\n      <td>2022-10-31</td>\n    </tr>\n    <tr>\n      <th>178</th>\n      <td>2022</td>\n      <td>November</td>\n      <td>31678</td>\n      <td>Other</td>\n      <td>2022-11-30</td>\n    </tr>\n    <tr>\n      <th>179</th>\n      <td>2022</td>\n      <td>December</td>\n      <td>39750</td>\n      <td>Other</td>\n      <td>2022-12-31</td>\n    </tr>\n  </tbody>\n</table>\n<p>180 rows × 5 columns</p>\n</div>"
     },
     "execution_count": 61,
     "metadata": {},
     "output_type": "execute_result"
    }
   ],
   "source": [
    "# Combine year and month columns\n",
    "point_of_entry['year'] = point_of_entry['year'].astype(str)\n",
    "point_of_entry['month'] = point_of_entry['month'].astype(str)\n",
    "point_of_entry['date'] = point_of_entry['year'] + '-' + point_of_entry['month']\n",
    "\n",
    "# Convert the date column to datetime (end of month)\n",
    "point_of_entry['date'] = pd.to_datetime(point_of_entry['date'], format='%Y-%B') + pd.offsets.MonthEnd(0)\n",
    "\n",
    "point_of_entry"
   ],
   "metadata": {
    "collapsed": false,
    "ExecuteTime": {
     "end_time": "2024-02-27T14:57:24.634439300Z",
     "start_time": "2024-02-27T14:57:24.457280300Z"
    }
   },
   "id": "98bd9a0f13a2d251",
   "execution_count": 61
  },
  {
   "cell_type": "code",
   "outputs": [
    {
     "name": "stderr",
     "output_type": "stream",
     "text": [
      "C:\\Users\\kisee\\AppData\\Local\\Programs\\Python\\Python311\\Lib\\site-packages\\plotly\\express\\_core.py:2065: FutureWarning:\n",
      "\n",
      "When grouping with a length-1 list-like, you will need to pass a length-1 tuple to get_group in a future version of pandas. Pass `(name,)` instead of `name` to silence this warning.\n",
      "\n"
     ]
    },
    {
     "data": {
      "application/vnd.plotly.v1+json": {
       "data": [
        {
         "alignmentgroup": "True",
         "hovertemplate": "=%{y}<extra></extra>",
         "legendgroup": "2018",
         "marker": {
          "color": "#1F77B4",
          "pattern": {
           "shape": ""
          }
         },
         "name": "2018",
         "offsetgroup": "2018",
         "orientation": "v",
         "showlegend": true,
         "textposition": "auto",
         "x": [
          "January",
          "February",
          "March",
          "April",
          "May",
          "June",
          "July",
          "August",
          "September",
          "October",
          "November",
          "December",
          "January",
          "February",
          "March",
          "April",
          "May",
          "June",
          "July",
          "August",
          "September",
          "October",
          "November",
          "December",
          "January",
          "February",
          "March",
          "April",
          "May",
          "June",
          "July",
          "August",
          "September",
          "October",
          "November",
          "December"
         ],
         "xaxis": "x",
         "y": [
          105262,
          98532,
          100441,
          94236,
          93730,
          114097,
          141763,
          145231,
          114539,
          115597,
          103229,
          115856,
          14533,
          12792,
          11024,
          5205,
          4735,
          5157,
          9025,
          9589,
          9916,
          9343,
          8391,
          18403,
          50886,
          40183,
          43801,
          43764,
          44216,
          45201,
          53833,
          55523,
          47966,
          45161,
          43236,
          50808
         ],
         "yaxis": "y",
         "type": "bar"
        },
        {
         "alignmentgroup": "True",
         "hovertemplate": "=%{y}<extra></extra>",
         "legendgroup": "2019",
         "marker": {
          "color": "#FF7F0E",
          "pattern": {
           "shape": ""
          }
         },
         "name": "2019",
         "offsetgroup": "2019",
         "orientation": "v",
         "showlegend": true,
         "textposition": "auto",
         "x": [
          "January",
          "February",
          "March",
          "April",
          "May",
          "June",
          "July",
          "August",
          "September",
          "October",
          "November",
          "December",
          "January",
          "February",
          "March",
          "April",
          "May",
          "June",
          "July",
          "August",
          "September",
          "October",
          "November",
          "December",
          "January",
          "February",
          "March",
          "April",
          "May",
          "June",
          "July",
          "August",
          "September",
          "October",
          "November",
          "December"
         ],
         "xaxis": "x",
         "y": [
          113050,
          106198,
          93571,
          103522,
          98596,
          122122,
          149994,
          148816,
          121668,
          138033,
          108755,
          119646,
          15740,
          12761,
          20159,
          4769,
          3591,
          6650,
          8520,
          10988,
          9199,
          11157,
          12315,
          12373,
          44514,
          33876,
          33549,
          37968,
          37351,
          37920,
          47826,
          53787,
          38707,
          53928,
          33183,
          44012
         ],
         "yaxis": "y",
         "type": "bar"
        },
        {
         "alignmentgroup": "True",
         "hovertemplate": "=%{y}<extra></extra>",
         "legendgroup": "2020",
         "marker": {
          "color": "#2CA02C",
          "pattern": {
           "shape": ""
          }
         },
         "name": "2020",
         "offsetgroup": "2020",
         "orientation": "v",
         "showlegend": true,
         "textposition": "auto",
         "x": [
          "January",
          "February",
          "March",
          "April",
          "May",
          "June",
          "July",
          "August",
          "September",
          "October",
          "November",
          "December",
          "January",
          "February",
          "March",
          "April",
          "May",
          "June",
          "July",
          "August",
          "September",
          "October",
          "November",
          "December",
          "January",
          "February",
          "March",
          "April",
          "May",
          "June",
          "July",
          "August",
          "September",
          "October",
          "November",
          "December"
         ],
         "xaxis": "x",
         "y": [
          113078,
          106345,
          43346,
          8,
          93,
          440,
          467,
          13371,
          16565,
          27932,
          27311,
          43362,
          12205,
          11086,
          3950,
          0,
          0,
          2,
          1,
          548,
          662,
          1179,
          1040,
          3113,
          45520,
          33537,
          20523,
          19,
          44,
          139,
          207,
          130,
          8792,
          10782,
          9534,
          12473
         ],
         "yaxis": "y",
         "type": "bar"
        },
        {
         "alignmentgroup": "True",
         "hovertemplate": "=%{y}<extra></extra>",
         "legendgroup": "2021",
         "marker": {
          "color": "#D62728",
          "pattern": {
           "shape": ""
          }
         },
         "name": "2021",
         "offsetgroup": "2021",
         "orientation": "v",
         "showlegend": true,
         "textposition": "auto",
         "x": [
          "January",
          "February",
          "March",
          "April",
          "May",
          "June",
          "July",
          "August",
          "September",
          "October",
          "November",
          "December",
          "January",
          "February",
          "March",
          "April",
          "May",
          "June",
          "July",
          "August",
          "September",
          "October",
          "November",
          "December",
          "January",
          "February",
          "March",
          "April",
          "May",
          "June",
          "July",
          "August",
          "September",
          "October",
          "November",
          "December"
         ],
         "xaxis": "x",
         "y": [
          43234,
          32047,
          37214,
          27850,
          32153,
          46494,
          64498,
          72291,
          66667,
          67608,
          71271,
          82867,
          3045,
          3005,
          3194,
          3037,
          1735,
          2038,
          4532,
          6257,
          3633,
          5201,
          5435,
          7637,
          13408,
          10912,
          11643,
          9296,
          12254,
          13076,
          13594,
          16439,
          17691,
          18990,
          17602,
          22607
         ],
         "yaxis": "y",
         "type": "bar"
        },
        {
         "alignmentgroup": "True",
         "hovertemplate": "=%{y}<extra></extra>",
         "legendgroup": "2022",
         "marker": {
          "color": "#9467BD",
          "pattern": {
           "shape": ""
          }
         },
         "name": "2022",
         "offsetgroup": "2022",
         "orientation": "v",
         "showlegend": true,
         "textposition": "auto",
         "x": [
          "January",
          "February",
          "March",
          "April",
          "May",
          "June",
          "July",
          "August",
          "September",
          "October",
          "November",
          "December",
          "January",
          "February",
          "March",
          "April",
          "May",
          "June",
          "July",
          "August",
          "September",
          "October",
          "November",
          "December",
          "January",
          "February",
          "March",
          "April",
          "May",
          "June",
          "July",
          "August",
          "September",
          "October",
          "November",
          "December"
         ],
         "xaxis": "x",
         "y": [
          63277,
          67560,
          76336,
          77379,
          87058,
          103332,
          109766,
          97103,
          90502,
          96168,
          88342,
          105939,
          6655,
          6390,
          5073,
          3949,
          3429,
          4834,
          6423,
          7555,
          6282,
          8525,
          10878,
          14867,
          20966,
          19380,
          22159,
          23184,
          26506,
          25903,
          33222,
          27373,
          33969,
          32040,
          31678,
          39750
         ],
         "yaxis": "y",
         "type": "bar"
        }
       ],
       "layout": {
        "template": {
         "data": {
          "pie": [
           {
            "automargin": true,
            "type": "pie"
           }
          ],
          "scatter3d": [
           {
            "line": {
             "width": 3
            },
            "marker": {
             "size": 9
            },
            "type": "scatter3d"
           }
          ],
          "scattergeo": [
           {
            "line": {
             "width": 3
            },
            "marker": {
             "size": 9
            },
            "type": "scattergeo"
           }
          ],
          "scattergl": [
           {
            "line": {
             "width": 3
            },
            "marker": {
             "size": 9
            },
            "type": "scattergl"
           }
          ],
          "scatterpolargl": [
           {
            "line": {
             "width": 3
            },
            "marker": {
             "size": 9
            },
            "type": "scatterpolargl"
           }
          ],
          "scatterpolar": [
           {
            "line": {
             "width": 3
            },
            "marker": {
             "size": 9
            },
            "type": "scatterpolar"
           }
          ],
          "scatter": [
           {
            "line": {
             "width": 3
            },
            "marker": {
             "size": 9
            },
            "type": "scatter"
           }
          ],
          "scatterternary": [
           {
            "line": {
             "width": 3
            },
            "marker": {
             "size": 9
            },
            "type": "scatterternary"
           }
          ],
          "table": [
           {
            "cells": {
             "height": 30
            },
            "header": {
             "height": 36
            },
            "type": "table"
           }
          ]
         },
         "layout": {
          "font": {
           "size": 18
          },
          "xaxis": {
           "title": {
            "standoff": 15
           }
          },
          "yaxis": {
           "title": {
            "standoff": 15
           }
          }
         }
        },
        "xaxis": {
         "anchor": "y",
         "domain": [
          0.0,
          1.0
         ],
         "title": {
          "text": ""
         }
        },
        "yaxis": {
         "anchor": "x",
         "domain": [
          0.0,
          1.0
         ],
         "title": {
          "text": ""
         }
        },
        "legend": {
         "title": {
          "text": ""
         },
         "tracegroupgap": 0
        },
        "title": {
         "text": "Arrivals by Month and Year"
        },
        "barmode": "group"
       },
       "config": {
        "plotlyServerURL": "https://plot.ly"
       }
      },
      "text/html": "<div>                            <div id=\"c946d91e-037a-4f09-919a-15d438a81e92\" class=\"plotly-graph-div\" style=\"height:525px; width:100%;\"></div>            <script type=\"text/javascript\">                require([\"plotly\"], function(Plotly) {                    window.PLOTLYENV=window.PLOTLYENV || {};                                    if (document.getElementById(\"c946d91e-037a-4f09-919a-15d438a81e92\")) {                    Plotly.newPlot(                        \"c946d91e-037a-4f09-919a-15d438a81e92\",                        [{\"alignmentgroup\":\"True\",\"hovertemplate\":\"=%{y}\\u003cextra\\u003e\\u003c\\u002fextra\\u003e\",\"legendgroup\":\"2018\",\"marker\":{\"color\":\"#1F77B4\",\"pattern\":{\"shape\":\"\"}},\"name\":\"2018\",\"offsetgroup\":\"2018\",\"orientation\":\"v\",\"showlegend\":true,\"textposition\":\"auto\",\"x\":[\"January\",\"February\",\"March\",\"April\",\"May\",\"June\",\"July\",\"August\",\"September\",\"October\",\"November\",\"December\",\"January\",\"February\",\"March\",\"April\",\"May\",\"June\",\"July\",\"August\",\"September\",\"October\",\"November\",\"December\",\"January\",\"February\",\"March\",\"April\",\"May\",\"June\",\"July\",\"August\",\"September\",\"October\",\"November\",\"December\"],\"xaxis\":\"x\",\"y\":[105262,98532,100441,94236,93730,114097,141763,145231,114539,115597,103229,115856,14533,12792,11024,5205,4735,5157,9025,9589,9916,9343,8391,18403,50886,40183,43801,43764,44216,45201,53833,55523,47966,45161,43236,50808],\"yaxis\":\"y\",\"type\":\"bar\"},{\"alignmentgroup\":\"True\",\"hovertemplate\":\"=%{y}\\u003cextra\\u003e\\u003c\\u002fextra\\u003e\",\"legendgroup\":\"2019\",\"marker\":{\"color\":\"#FF7F0E\",\"pattern\":{\"shape\":\"\"}},\"name\":\"2019\",\"offsetgroup\":\"2019\",\"orientation\":\"v\",\"showlegend\":true,\"textposition\":\"auto\",\"x\":[\"January\",\"February\",\"March\",\"April\",\"May\",\"June\",\"July\",\"August\",\"September\",\"October\",\"November\",\"December\",\"January\",\"February\",\"March\",\"April\",\"May\",\"June\",\"July\",\"August\",\"September\",\"October\",\"November\",\"December\",\"January\",\"February\",\"March\",\"April\",\"May\",\"June\",\"July\",\"August\",\"September\",\"October\",\"November\",\"December\"],\"xaxis\":\"x\",\"y\":[113050,106198,93571,103522,98596,122122,149994,148816,121668,138033,108755,119646,15740,12761,20159,4769,3591,6650,8520,10988,9199,11157,12315,12373,44514,33876,33549,37968,37351,37920,47826,53787,38707,53928,33183,44012],\"yaxis\":\"y\",\"type\":\"bar\"},{\"alignmentgroup\":\"True\",\"hovertemplate\":\"=%{y}\\u003cextra\\u003e\\u003c\\u002fextra\\u003e\",\"legendgroup\":\"2020\",\"marker\":{\"color\":\"#2CA02C\",\"pattern\":{\"shape\":\"\"}},\"name\":\"2020\",\"offsetgroup\":\"2020\",\"orientation\":\"v\",\"showlegend\":true,\"textposition\":\"auto\",\"x\":[\"January\",\"February\",\"March\",\"April\",\"May\",\"June\",\"July\",\"August\",\"September\",\"October\",\"November\",\"December\",\"January\",\"February\",\"March\",\"April\",\"May\",\"June\",\"July\",\"August\",\"September\",\"October\",\"November\",\"December\",\"January\",\"February\",\"March\",\"April\",\"May\",\"June\",\"July\",\"August\",\"September\",\"October\",\"November\",\"December\"],\"xaxis\":\"x\",\"y\":[113078,106345,43346,8,93,440,467,13371,16565,27932,27311,43362,12205,11086,3950,0,0,2,1,548,662,1179,1040,3113,45520,33537,20523,19,44,139,207,130,8792,10782,9534,12473],\"yaxis\":\"y\",\"type\":\"bar\"},{\"alignmentgroup\":\"True\",\"hovertemplate\":\"=%{y}\\u003cextra\\u003e\\u003c\\u002fextra\\u003e\",\"legendgroup\":\"2021\",\"marker\":{\"color\":\"#D62728\",\"pattern\":{\"shape\":\"\"}},\"name\":\"2021\",\"offsetgroup\":\"2021\",\"orientation\":\"v\",\"showlegend\":true,\"textposition\":\"auto\",\"x\":[\"January\",\"February\",\"March\",\"April\",\"May\",\"June\",\"July\",\"August\",\"September\",\"October\",\"November\",\"December\",\"January\",\"February\",\"March\",\"April\",\"May\",\"June\",\"July\",\"August\",\"September\",\"October\",\"November\",\"December\",\"January\",\"February\",\"March\",\"April\",\"May\",\"June\",\"July\",\"August\",\"September\",\"October\",\"November\",\"December\"],\"xaxis\":\"x\",\"y\":[43234,32047,37214,27850,32153,46494,64498,72291,66667,67608,71271,82867,3045,3005,3194,3037,1735,2038,4532,6257,3633,5201,5435,7637,13408,10912,11643,9296,12254,13076,13594,16439,17691,18990,17602,22607],\"yaxis\":\"y\",\"type\":\"bar\"},{\"alignmentgroup\":\"True\",\"hovertemplate\":\"=%{y}\\u003cextra\\u003e\\u003c\\u002fextra\\u003e\",\"legendgroup\":\"2022\",\"marker\":{\"color\":\"#9467BD\",\"pattern\":{\"shape\":\"\"}},\"name\":\"2022\",\"offsetgroup\":\"2022\",\"orientation\":\"v\",\"showlegend\":true,\"textposition\":\"auto\",\"x\":[\"January\",\"February\",\"March\",\"April\",\"May\",\"June\",\"July\",\"August\",\"September\",\"October\",\"November\",\"December\",\"January\",\"February\",\"March\",\"April\",\"May\",\"June\",\"July\",\"August\",\"September\",\"October\",\"November\",\"December\",\"January\",\"February\",\"March\",\"April\",\"May\",\"June\",\"July\",\"August\",\"September\",\"October\",\"November\",\"December\"],\"xaxis\":\"x\",\"y\":[63277,67560,76336,77379,87058,103332,109766,97103,90502,96168,88342,105939,6655,6390,5073,3949,3429,4834,6423,7555,6282,8525,10878,14867,20966,19380,22159,23184,26506,25903,33222,27373,33969,32040,31678,39750],\"yaxis\":\"y\",\"type\":\"bar\"}],                        {\"template\":{\"data\":{\"pie\":[{\"automargin\":true,\"type\":\"pie\"}],\"scatter3d\":[{\"line\":{\"width\":3},\"marker\":{\"size\":9},\"type\":\"scatter3d\"}],\"scattergeo\":[{\"line\":{\"width\":3},\"marker\":{\"size\":9},\"type\":\"scattergeo\"}],\"scattergl\":[{\"line\":{\"width\":3},\"marker\":{\"size\":9},\"type\":\"scattergl\"}],\"scatterpolargl\":[{\"line\":{\"width\":3},\"marker\":{\"size\":9},\"type\":\"scatterpolargl\"}],\"scatterpolar\":[{\"line\":{\"width\":3},\"marker\":{\"size\":9},\"type\":\"scatterpolar\"}],\"scatter\":[{\"line\":{\"width\":3},\"marker\":{\"size\":9},\"type\":\"scatter\"}],\"scatterternary\":[{\"line\":{\"width\":3},\"marker\":{\"size\":9},\"type\":\"scatterternary\"}],\"table\":[{\"cells\":{\"height\":30},\"header\":{\"height\":36},\"type\":\"table\"}]},\"layout\":{\"font\":{\"size\":18},\"xaxis\":{\"title\":{\"standoff\":15}},\"yaxis\":{\"title\":{\"standoff\":15}}}},\"xaxis\":{\"anchor\":\"y\",\"domain\":[0.0,1.0],\"title\":{\"text\":\"\"}},\"yaxis\":{\"anchor\":\"x\",\"domain\":[0.0,1.0],\"title\":{\"text\":\"\"}},\"legend\":{\"title\":{\"text\":\"\"},\"tracegroupgap\":0},\"title\":{\"text\":\"Arrivals by Month and Year\"},\"barmode\":\"group\"},                        {\"responsive\": true}                    ).then(function(){\n                            \nvar gd = document.getElementById('c946d91e-037a-4f09-919a-15d438a81e92');\nvar x = new MutationObserver(function (mutations, observer) {{\n        var display = window.getComputedStyle(gd).display;\n        if (!display || display === 'none') {{\n            console.log([gd, 'removed!']);\n            Plotly.purge(gd);\n            observer.disconnect();\n        }}\n}});\n\n// Listen for the removal of the full notebook cells\nvar notebookContainer = gd.closest('#notebook-container');\nif (notebookContainer) {{\n    x.observe(notebookContainer, {childList: true});\n}}\n\n// Listen for the clearing of the current output cell\nvar outputEl = gd.closest('.output');\nif (outputEl) {{\n    x.observe(outputEl, {childList: true});\n}}\n\n                        })                };                });            </script>        </div>"
     },
     "metadata": {},
     "output_type": "display_data"
    }
   ],
   "source": [
    "# Bar plot of arrivals by year using plotly\n",
    "\n",
    "# Set plotly template\n",
    "px.defaults.template = 'presentation'\n",
    "\n",
    "fig = px.bar(point_of_entry, x='month', y='arrivals',\n",
    "             title='Arrivals by Month and Year', color='year',\n",
    "             barmode='group', labels={'arrivals': '', 'month': '', 'year': ''})\n",
    "\n",
    "\n",
    "\n",
    "fig.show()            "
   ],
   "metadata": {
    "collapsed": false,
    "ExecuteTime": {
     "end_time": "2024-02-27T15:05:22.123837600Z",
     "start_time": "2024-02-27T15:05:22.038413100Z"
    }
   },
   "id": "892bfdade63e1743",
   "execution_count": 77
  }
 ],
 "metadata": {
  "kernelspec": {
   "display_name": "Python 3",
   "language": "python",
   "name": "python3"
  },
  "language_info": {
   "codemirror_mode": {
    "name": "ipython",
    "version": 2
   },
   "file_extension": ".py",
   "mimetype": "text/x-python",
   "name": "python",
   "nbconvert_exporter": "python",
   "pygments_lexer": "ipython2",
   "version": "2.7.6"
  }
 },
 "nbformat": 4,
 "nbformat_minor": 5
}
